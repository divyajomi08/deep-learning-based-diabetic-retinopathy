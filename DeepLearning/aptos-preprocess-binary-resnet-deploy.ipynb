{
  "cells": [
    {
      "cell_type": "code",
      "source": [
        "# 08 June 2021, Tuesday\n",
        "# Deploying ResNet model trained using APTOS cropped and preprocessed images\n",
        "\n",
        "%matplotlib inline\n",
        "import numpy as np\n",
        "import pandas as pd\n",
        "import seaborn as sns\n",
        "import os\n",
        "\n",
        "import PIL\n",
        "from sklearn.model_selection import train_test_split\n",
        "from tensorflow.keras.preprocessing.image import ImageDataGenerator\n",
        "from tensorflow.keras.callbacks import EarlyStopping, ModelCheckpoint\n",
        "from tensorflow.keras.layers import *\n",
        "from tensorflow.keras.models import Model\n",
        "from tensorflow.keras.initializers import glorot_uniform"
      ],
      "outputs": [],
      "execution_count": 1,
      "metadata": {
        "gather": {
          "logged": 1623128882411
        }
      }
    },
    {
      "cell_type": "code",
      "source": [
        "import azureml\n",
        "from azureml.core import Workspace\n",
        "\n",
        "print(\"Azure ML SDK Version: \", azureml.core.VERSION)\n",
        "\n",
        "ws = Workspace(subscription_id=\"a02597e4-584a-47b3-99d6-529cb1a17c03\",\n",
        "               workspace_name='az-workspace',\n",
        "               resource_group=\"azure-for-students\")"
      ],
      "outputs": [
        {
          "output_type": "stream",
          "name": "stdout",
          "text": [
            "Azure ML SDK Version:  1.28.0\n"
          ]
        }
      ],
      "execution_count": 2,
      "metadata": {
        "collapsed": true,
        "gather": {
          "logged": 1623134474955
        },
        "jupyter": {
          "outputs_hidden": false,
          "source_hidden": false
        },
        "nteract": {
          "transient": {
            "deleting": false
          }
        }
      }
    },
    {
      "cell_type": "code",
      "source": [
        "# azureml-core of version 1.0.72 or higher is required\n",
        "from azureml.core import Workspace, Dataset\n",
        "\n",
        "subscription_id = 'a02597e4-584a-47b3-99d6-529cb1a17c03'\n",
        "resource_group = 'azure-for-students'\n",
        "workspace_name = 'az-workspace'\n",
        "\n",
        "# workspace = Workspace(subscription_id, resource_group, workspace_name)\n",
        "\n",
        "# dataset = Dataset.get_by_name(ws, name='dr-color-train')\n",
        "# dataset.download(target_path='./dr-color-train/', overwrite=False)"
      ],
      "outputs": [],
      "execution_count": 3,
      "metadata": {
        "collapsed": true,
        "gather": {
          "logged": 1623128899595
        },
        "jupyter": {
          "outputs_hidden": false,
          "source_hidden": false
        },
        "nteract": {
          "transient": {
            "deleting": false
          }
        }
      }
    },
    {
      "cell_type": "code",
      "source": [
        "\"\"\"\n",
        "# Creating GPU Cluster (For training)\n",
        "from azureml.core.compute import ComputeTarget, AmlCompute\n",
        "from azureml.core.compute_target import ComputeTargetException\n",
        "\n",
        "cluster_name = 'gpu-cluster'\n",
        "\n",
        "try:\n",
        "    compute_target = ComputeTarget(workspace=ws, name=cluster_name)\n",
        "    print('Found existing compute target')\n",
        "except ComputeTargetException:\n",
        "    print('Creating a new compute target...')\n",
        "    compute_config = AmlCompute.provisioning_configuration(vm_size='STANDARD_NC6', \n",
        "                                                           max_nodes=4)\n",
        "    \n",
        "    compute_target = ComputeTarget.create(ws, cluster_name, compute_config)\n",
        "\n",
        "compute_target.wait_for_completion(show_output=True, min_node_count=None, timeout_in_minutes=20)\n",
        "\n",
        "print(compute_target.get_status().serialize())\n",
        "\"\"\""
      ],
      "outputs": [
        {
          "output_type": "execute_result",
          "execution_count": 4,
          "data": {
            "text/plain": "\"\\n# Creating GPU Cluster (For training)\\nfrom azureml.core.compute import ComputeTarget, AmlCompute\\nfrom azureml.core.compute_target import ComputeTargetException\\n\\ncluster_name = 'gpu-cluster'\\n\\ntry:\\n    compute_target = ComputeTarget(workspace=ws, name=cluster_name)\\n    print('Found existing compute target')\\nexcept ComputeTargetException:\\n    print('Creating a new compute target...')\\n    compute_config = AmlCompute.provisioning_configuration(vm_size='STANDARD_NC6', \\n                                                           max_nodes=4)\\n    \\n    compute_target = ComputeTarget.create(ws, cluster_name, compute_config)\\n\\ncompute_target.wait_for_completion(show_output=True, min_node_count=None, timeout_in_minutes=20)\\n\\nprint(compute_target.get_status().serialize())\\n\""
          },
          "metadata": {}
        }
      ],
      "execution_count": 4,
      "metadata": {
        "gather": {
          "logged": 1622978860773
        },
        "jupyter": {
          "outputs_hidden": true,
          "source_hidden": true
        },
        "nteract": {
          "transient": {
            "deleting": false
          }
        }
      }
    },
    {
      "cell_type": "code",
      "source": [
        "# RESNET MODEL\n",
        "\n",
        "def res_block(X, filter, stage):\n",
        "    # Convolutional block\n",
        "    X_copy = X\n",
        "    f1, f2, f3 = filter\n",
        "\n",
        "    # Main Path\n",
        "    X = Conv2D(f1, (1,1),strides = (1,1), name ='res_'+str(stage)+'_conv_a', kernel_initializer= glorot_uniform(seed = 0))(X)\n",
        "    X = MaxPool2D((2,2))(X)\n",
        "    X = BatchNormalization(axis =3, name = 'bn_'+str(stage)+'_conv_a')(X)\n",
        "    X = Activation('relu')(X) \n",
        "\n",
        "    X = Conv2D(f2, kernel_size = (3,3), strides =(1,1), padding = 'same', name ='res_'+str(stage)+'_conv_b', kernel_initializer= glorot_uniform(seed = 0))(X)\n",
        "    X = BatchNormalization(axis =3, name = 'bn_'+str(stage)+'_conv_b')(X)\n",
        "    X = Activation('relu')(X) \n",
        "\n",
        "    X = Conv2D(f3, kernel_size = (1,1), strides =(1,1),name ='res_'+str(stage)+'_conv_c', kernel_initializer= glorot_uniform(seed = 0))(X)\n",
        "    X = BatchNormalization(axis =3, name = 'bn_'+str(stage)+'_conv_c')(X)\n",
        "\n",
        "    # Short Path\n",
        "    X_copy = Conv2D(f3, kernel_size = (1,1), strides =(1,1),name ='res_'+str(stage)+'_conv_copy', kernel_initializer= glorot_uniform(seed = 0))(X_copy)\n",
        "    X_copy = MaxPool2D((2,2))(X_copy)\n",
        "    X_copy = BatchNormalization(axis =3, name = 'bn_'+str(stage)+'_conv_copy')(X_copy)\n",
        "\n",
        "    # ADD\n",
        "    X = Add()([X,X_copy])\n",
        "    X = Activation('relu')(X)\n",
        "\n",
        "    # Identity Block 1\n",
        "    X_copy = X\n",
        "\n",
        "\n",
        "    # Main Path\n",
        "    X = Conv2D(f1, (1,1),strides = (1,1), name ='res_'+str(stage)+'_identity_1_a', kernel_initializer= glorot_uniform(seed = 0))(X)\n",
        "    X = BatchNormalization(axis =3, name = 'bn_'+str(stage)+'_identity_1_a')(X)\n",
        "    X = Activation('relu')(X) \n",
        "\n",
        "    X = Conv2D(f2, kernel_size = (3,3), strides =(1,1), padding = 'same', name ='res_'+str(stage)+'_identity_1_b', kernel_initializer= glorot_uniform(seed = 0))(X)\n",
        "    X = BatchNormalization(axis =3, name = 'bn_'+str(stage)+'_identity_1_b')(X)\n",
        "    X = Activation('relu')(X) \n",
        "\n",
        "    X = Conv2D(f3, kernel_size = (1,1), strides =(1,1),name ='res_'+str(stage)+'_identity_1_c', kernel_initializer= glorot_uniform(seed = 0))(X)\n",
        "    X = BatchNormalization(axis =3, name = 'bn_'+str(stage)+'_identity_1_c')(X)\n",
        "\n",
        "    # ADD\n",
        "    X = Add()([X,X_copy])\n",
        "    X = Activation('relu')(X)\n",
        "\n",
        "    # Identity Block 2\n",
        "    X_copy = X\n",
        "\n",
        "\n",
        "    # Main Path\n",
        "    X = Conv2D(f1, (1,1),strides = (1,1), name ='res_'+str(stage)+'_identity_2_a', kernel_initializer= glorot_uniform(seed = 0))(X)\n",
        "    X = BatchNormalization(axis =3, name = 'bn_'+str(stage)+'_identity_2_a')(X)\n",
        "    X = Activation('relu')(X) \n",
        "\n",
        "    X = Conv2D(f2, kernel_size = (3,3), strides =(1,1), padding = 'same', name ='res_'+str(stage)+'_identity_2_b', kernel_initializer= glorot_uniform(seed = 0))(X)\n",
        "    X = BatchNormalization(axis =3, name = 'bn_'+str(stage)+'_identity_2_b')(X)\n",
        "    X = Activation('relu')(X) \n",
        "\n",
        "    X = Conv2D(f3, kernel_size = (1,1), strides =(1,1),name ='res_'+str(stage)+'_identity_2_c', kernel_initializer= glorot_uniform(seed = 0))(X)\n",
        "    X = BatchNormalization(axis =3, name = 'bn_'+str(stage)+'_identity_2_c')(X)\n",
        "\n",
        "    # ADD\n",
        "    X = Add()([X,X_copy])\n",
        "    X = Activation('relu')(X)\n",
        "\n",
        "    return X"
      ],
      "outputs": [],
      "execution_count": 4,
      "metadata": {
        "collapsed": true,
        "gather": {
          "logged": 1623128902651
        },
        "jupyter": {
          "outputs_hidden": false,
          "source_hidden": false
        },
        "nteract": {
          "transient": {
            "deleting": false
          }
        }
      }
    },
    {
      "cell_type": "code",
      "source": [
        "input_shape = (512, 512, 3)\n",
        "\n",
        "X_input = Input(input_shape)\n",
        "\n",
        "X = ZeroPadding2D((3,3))(X_input)\n",
        "\n",
        "# 1 - stage\n",
        "\n",
        "X = Conv2D(64, (7,7), strides= (2,2), name = 'conv1', kernel_initializer= glorot_uniform(seed = 0))(X)\n",
        "X = BatchNormalization(axis =3, name = 'bn_conv1')(X)\n",
        "X = Activation('relu')(X)\n",
        "X = MaxPooling2D((3,3), strides= (2,2))(X)\n",
        "\n",
        "# 2- stage\n",
        "\n",
        "X = res_block(X, filter= [64,64,256], stage= 2)\n",
        "\n",
        "# 3- stage\n",
        "\n",
        "X = res_block(X, filter= [128,128,512], stage= 3)\n",
        "\n",
        "# 4- stage\n",
        "\n",
        "X = res_block(X, filter= [256,256,1024], stage= 4)\n",
        "\n",
        "# # 5- stage\n",
        "\n",
        "X = res_block(X, filter= [512,512,2048], stage= 5)\n",
        "\n",
        "#Average Pooling\n",
        "\n",
        "X = AveragePooling2D((2,2), name = 'Averagea_Pooling')(X)\n",
        "\n",
        "#Final layer\n",
        "\n",
        "X = Flatten()(X)\n",
        "X = Dense(2, activation = 'softmax', name = 'Dense_final', kernel_initializer= glorot_uniform(seed=0))(X)\n",
        "\n",
        "\n",
        "model = Model(inputs= X_input, outputs = X, name = 'Resnet18')\n",
        "\n",
        "model.summary()"
      ],
      "outputs": [
        {
          "output_type": "stream",
          "name": "stdout",
          "text": [
            "Model: \"Resnet18\"\n",
            "__________________________________________________________________________________________________\n",
            "Layer (type)                    Output Shape         Param #     Connected to                     \n",
            "==================================================================================================\n",
            "input_1 (InputLayer)            [(None, 512, 512, 3) 0                                            \n",
            "__________________________________________________________________________________________________\n",
            "zero_padding2d (ZeroPadding2D)  (None, 518, 518, 3)  0           input_1[0][0]                    \n",
            "__________________________________________________________________________________________________\n",
            "conv1 (Conv2D)                  (None, 256, 256, 64) 9472        zero_padding2d[0][0]             \n",
            "__________________________________________________________________________________________________\n",
            "bn_conv1 (BatchNormalization)   (None, 256, 256, 64) 256         conv1[0][0]                      \n",
            "__________________________________________________________________________________________________\n",
            "activation (Activation)         (None, 256, 256, 64) 0           bn_conv1[0][0]                   \n",
            "__________________________________________________________________________________________________\n",
            "max_pooling2d (MaxPooling2D)    (None, 127, 127, 64) 0           activation[0][0]                 \n",
            "__________________________________________________________________________________________________\n",
            "res_2_conv_a (Conv2D)           (None, 127, 127, 64) 4160        max_pooling2d[0][0]              \n",
            "__________________________________________________________________________________________________\n",
            "max_pooling2d_1 (MaxPooling2D)  (None, 63, 63, 64)   0           res_2_conv_a[0][0]               \n",
            "__________________________________________________________________________________________________\n",
            "bn_2_conv_a (BatchNormalization (None, 63, 63, 64)   256         max_pooling2d_1[0][0]            \n",
            "__________________________________________________________________________________________________\n",
            "activation_1 (Activation)       (None, 63, 63, 64)   0           bn_2_conv_a[0][0]                \n",
            "__________________________________________________________________________________________________\n",
            "res_2_conv_b (Conv2D)           (None, 63, 63, 64)   36928       activation_1[0][0]               \n",
            "__________________________________________________________________________________________________\n",
            "bn_2_conv_b (BatchNormalization (None, 63, 63, 64)   256         res_2_conv_b[0][0]               \n",
            "__________________________________________________________________________________________________\n",
            "activation_2 (Activation)       (None, 63, 63, 64)   0           bn_2_conv_b[0][0]                \n",
            "__________________________________________________________________________________________________\n",
            "res_2_conv_copy (Conv2D)        (None, 127, 127, 256 16640       max_pooling2d[0][0]              \n",
            "__________________________________________________________________________________________________\n",
            "res_2_conv_c (Conv2D)           (None, 63, 63, 256)  16640       activation_2[0][0]               \n",
            "__________________________________________________________________________________________________\n",
            "max_pooling2d_2 (MaxPooling2D)  (None, 63, 63, 256)  0           res_2_conv_copy[0][0]            \n",
            "__________________________________________________________________________________________________\n",
            "bn_2_conv_c (BatchNormalization (None, 63, 63, 256)  1024        res_2_conv_c[0][0]               \n",
            "__________________________________________________________________________________________________\n",
            "bn_2_conv_copy (BatchNormalizat (None, 63, 63, 256)  1024        max_pooling2d_2[0][0]            \n",
            "__________________________________________________________________________________________________\n",
            "add (Add)                       (None, 63, 63, 256)  0           bn_2_conv_c[0][0]                \n",
            "                                                                 bn_2_conv_copy[0][0]             \n",
            "__________________________________________________________________________________________________\n",
            "activation_3 (Activation)       (None, 63, 63, 256)  0           add[0][0]                        \n",
            "__________________________________________________________________________________________________\n",
            "res_2_identity_1_a (Conv2D)     (None, 63, 63, 64)   16448       activation_3[0][0]               \n",
            "__________________________________________________________________________________________________\n",
            "bn_2_identity_1_a (BatchNormali (None, 63, 63, 64)   256         res_2_identity_1_a[0][0]         \n",
            "__________________________________________________________________________________________________\n",
            "activation_4 (Activation)       (None, 63, 63, 64)   0           bn_2_identity_1_a[0][0]          \n",
            "__________________________________________________________________________________________________\n",
            "res_2_identity_1_b (Conv2D)     (None, 63, 63, 64)   36928       activation_4[0][0]               \n",
            "__________________________________________________________________________________________________\n",
            "bn_2_identity_1_b (BatchNormali (None, 63, 63, 64)   256         res_2_identity_1_b[0][0]         \n",
            "__________________________________________________________________________________________________\n",
            "activation_5 (Activation)       (None, 63, 63, 64)   0           bn_2_identity_1_b[0][0]          \n",
            "__________________________________________________________________________________________________\n",
            "res_2_identity_1_c (Conv2D)     (None, 63, 63, 256)  16640       activation_5[0][0]               \n",
            "__________________________________________________________________________________________________\n",
            "bn_2_identity_1_c (BatchNormali (None, 63, 63, 256)  1024        res_2_identity_1_c[0][0]         \n",
            "__________________________________________________________________________________________________\n",
            "add_1 (Add)                     (None, 63, 63, 256)  0           bn_2_identity_1_c[0][0]          \n",
            "                                                                 activation_3[0][0]               \n",
            "__________________________________________________________________________________________________\n",
            "activation_6 (Activation)       (None, 63, 63, 256)  0           add_1[0][0]                      \n",
            "__________________________________________________________________________________________________\n",
            "res_2_identity_2_a (Conv2D)     (None, 63, 63, 64)   16448       activation_6[0][0]               \n",
            "__________________________________________________________________________________________________\n",
            "bn_2_identity_2_a (BatchNormali (None, 63, 63, 64)   256         res_2_identity_2_a[0][0]         \n",
            "__________________________________________________________________________________________________\n",
            "activation_7 (Activation)       (None, 63, 63, 64)   0           bn_2_identity_2_a[0][0]          \n",
            "__________________________________________________________________________________________________\n",
            "res_2_identity_2_b (Conv2D)     (None, 63, 63, 64)   36928       activation_7[0][0]               \n",
            "__________________________________________________________________________________________________\n",
            "bn_2_identity_2_b (BatchNormali (None, 63, 63, 64)   256         res_2_identity_2_b[0][0]         \n",
            "__________________________________________________________________________________________________\n",
            "activation_8 (Activation)       (None, 63, 63, 64)   0           bn_2_identity_2_b[0][0]          \n",
            "__________________________________________________________________________________________________\n",
            "res_2_identity_2_c (Conv2D)     (None, 63, 63, 256)  16640       activation_8[0][0]               \n",
            "__________________________________________________________________________________________________\n",
            "bn_2_identity_2_c (BatchNormali (None, 63, 63, 256)  1024        res_2_identity_2_c[0][0]         \n",
            "__________________________________________________________________________________________________\n",
            "add_2 (Add)                     (None, 63, 63, 256)  0           bn_2_identity_2_c[0][0]          \n",
            "                                                                 activation_6[0][0]               \n",
            "__________________________________________________________________________________________________\n",
            "activation_9 (Activation)       (None, 63, 63, 256)  0           add_2[0][0]                      \n",
            "__________________________________________________________________________________________________\n",
            "res_3_conv_a (Conv2D)           (None, 63, 63, 128)  32896       activation_9[0][0]               \n",
            "__________________________________________________________________________________________________\n",
            "max_pooling2d_3 (MaxPooling2D)  (None, 31, 31, 128)  0           res_3_conv_a[0][0]               \n",
            "__________________________________________________________________________________________________\n",
            "bn_3_conv_a (BatchNormalization (None, 31, 31, 128)  512         max_pooling2d_3[0][0]            \n",
            "__________________________________________________________________________________________________\n",
            "activation_10 (Activation)      (None, 31, 31, 128)  0           bn_3_conv_a[0][0]                \n",
            "__________________________________________________________________________________________________\n",
            "res_3_conv_b (Conv2D)           (None, 31, 31, 128)  147584      activation_10[0][0]              \n",
            "__________________________________________________________________________________________________\n",
            "bn_3_conv_b (BatchNormalization (None, 31, 31, 128)  512         res_3_conv_b[0][0]               \n",
            "__________________________________________________________________________________________________\n",
            "activation_11 (Activation)      (None, 31, 31, 128)  0           bn_3_conv_b[0][0]                \n",
            "__________________________________________________________________________________________________\n",
            "res_3_conv_copy (Conv2D)        (None, 63, 63, 512)  131584      activation_9[0][0]               \n",
            "__________________________________________________________________________________________________\n",
            "res_3_conv_c (Conv2D)           (None, 31, 31, 512)  66048       activation_11[0][0]              \n",
            "__________________________________________________________________________________________________\n",
            "max_pooling2d_4 (MaxPooling2D)  (None, 31, 31, 512)  0           res_3_conv_copy[0][0]            \n",
            "__________________________________________________________________________________________________\n",
            "bn_3_conv_c (BatchNormalization (None, 31, 31, 512)  2048        res_3_conv_c[0][0]               \n",
            "__________________________________________________________________________________________________\n",
            "bn_3_conv_copy (BatchNormalizat (None, 31, 31, 512)  2048        max_pooling2d_4[0][0]            \n",
            "__________________________________________________________________________________________________\n",
            "add_3 (Add)                     (None, 31, 31, 512)  0           bn_3_conv_c[0][0]                \n",
            "                                                                 bn_3_conv_copy[0][0]             \n",
            "__________________________________________________________________________________________________\n",
            "activation_12 (Activation)      (None, 31, 31, 512)  0           add_3[0][0]                      \n",
            "__________________________________________________________________________________________________\n",
            "res_3_identity_1_a (Conv2D)     (None, 31, 31, 128)  65664       activation_12[0][0]              \n",
            "__________________________________________________________________________________________________\n",
            "bn_3_identity_1_a (BatchNormali (None, 31, 31, 128)  512         res_3_identity_1_a[0][0]         \n",
            "__________________________________________________________________________________________________\n",
            "activation_13 (Activation)      (None, 31, 31, 128)  0           bn_3_identity_1_a[0][0]          \n",
            "__________________________________________________________________________________________________\n",
            "res_3_identity_1_b (Conv2D)     (None, 31, 31, 128)  147584      activation_13[0][0]              \n",
            "__________________________________________________________________________________________________\n",
            "bn_3_identity_1_b (BatchNormali (None, 31, 31, 128)  512         res_3_identity_1_b[0][0]         \n",
            "__________________________________________________________________________________________________\n",
            "activation_14 (Activation)      (None, 31, 31, 128)  0           bn_3_identity_1_b[0][0]          \n",
            "__________________________________________________________________________________________________\n",
            "res_3_identity_1_c (Conv2D)     (None, 31, 31, 512)  66048       activation_14[0][0]              \n",
            "__________________________________________________________________________________________________\n",
            "bn_3_identity_1_c (BatchNormali (None, 31, 31, 512)  2048        res_3_identity_1_c[0][0]         \n",
            "__________________________________________________________________________________________________\n",
            "add_4 (Add)                     (None, 31, 31, 512)  0           bn_3_identity_1_c[0][0]          \n",
            "                                                                 activation_12[0][0]              \n",
            "__________________________________________________________________________________________________\n",
            "activation_15 (Activation)      (None, 31, 31, 512)  0           add_4[0][0]                      \n",
            "__________________________________________________________________________________________________\n",
            "res_3_identity_2_a (Conv2D)     (None, 31, 31, 128)  65664       activation_15[0][0]              \n",
            "__________________________________________________________________________________________________\n",
            "bn_3_identity_2_a (BatchNormali (None, 31, 31, 128)  512         res_3_identity_2_a[0][0]         \n",
            "__________________________________________________________________________________________________\n",
            "activation_16 (Activation)      (None, 31, 31, 128)  0           bn_3_identity_2_a[0][0]          \n",
            "__________________________________________________________________________________________________\n",
            "res_3_identity_2_b (Conv2D)     (None, 31, 31, 128)  147584      activation_16[0][0]              \n",
            "__________________________________________________________________________________________________\n",
            "bn_3_identity_2_b (BatchNormali (None, 31, 31, 128)  512         res_3_identity_2_b[0][0]         \n",
            "__________________________________________________________________________________________________\n",
            "activation_17 (Activation)      (None, 31, 31, 128)  0           bn_3_identity_2_b[0][0]          \n",
            "__________________________________________________________________________________________________\n",
            "res_3_identity_2_c (Conv2D)     (None, 31, 31, 512)  66048       activation_17[0][0]              \n",
            "__________________________________________________________________________________________________\n",
            "bn_3_identity_2_c (BatchNormali (None, 31, 31, 512)  2048        res_3_identity_2_c[0][0]         \n",
            "__________________________________________________________________________________________________\n",
            "add_5 (Add)                     (None, 31, 31, 512)  0           bn_3_identity_2_c[0][0]          \n",
            "                                                                 activation_15[0][0]              \n",
            "__________________________________________________________________________________________________\n",
            "activation_18 (Activation)      (None, 31, 31, 512)  0           add_5[0][0]                      \n",
            "__________________________________________________________________________________________________\n",
            "res_4_conv_a (Conv2D)           (None, 31, 31, 256)  131328      activation_18[0][0]              \n",
            "__________________________________________________________________________________________________\n",
            "max_pooling2d_5 (MaxPooling2D)  (None, 15, 15, 256)  0           res_4_conv_a[0][0]               \n",
            "__________________________________________________________________________________________________\n",
            "bn_4_conv_a (BatchNormalization (None, 15, 15, 256)  1024        max_pooling2d_5[0][0]            \n",
            "__________________________________________________________________________________________________\n",
            "activation_19 (Activation)      (None, 15, 15, 256)  0           bn_4_conv_a[0][0]                \n",
            "__________________________________________________________________________________________________\n",
            "res_4_conv_b (Conv2D)           (None, 15, 15, 256)  590080      activation_19[0][0]              \n",
            "__________________________________________________________________________________________________\n",
            "bn_4_conv_b (BatchNormalization (None, 15, 15, 256)  1024        res_4_conv_b[0][0]               \n",
            "__________________________________________________________________________________________________\n",
            "activation_20 (Activation)      (None, 15, 15, 256)  0           bn_4_conv_b[0][0]                \n",
            "__________________________________________________________________________________________________\n",
            "res_4_conv_copy (Conv2D)        (None, 31, 31, 1024) 525312      activation_18[0][0]              \n",
            "__________________________________________________________________________________________________\n",
            "res_4_conv_c (Conv2D)           (None, 15, 15, 1024) 263168      activation_20[0][0]              \n",
            "__________________________________________________________________________________________________\n",
            "max_pooling2d_6 (MaxPooling2D)  (None, 15, 15, 1024) 0           res_4_conv_copy[0][0]            \n",
            "__________________________________________________________________________________________________\n",
            "bn_4_conv_c (BatchNormalization (None, 15, 15, 1024) 4096        res_4_conv_c[0][0]               \n",
            "__________________________________________________________________________________________________\n",
            "bn_4_conv_copy (BatchNormalizat (None, 15, 15, 1024) 4096        max_pooling2d_6[0][0]            \n",
            "__________________________________________________________________________________________________\n",
            "add_6 (Add)                     (None, 15, 15, 1024) 0           bn_4_conv_c[0][0]                \n",
            "                                                                 bn_4_conv_copy[0][0]             \n",
            "__________________________________________________________________________________________________\n",
            "activation_21 (Activation)      (None, 15, 15, 1024) 0           add_6[0][0]                      \n",
            "__________________________________________________________________________________________________\n",
            "res_4_identity_1_a (Conv2D)     (None, 15, 15, 256)  262400      activation_21[0][0]              \n",
            "__________________________________________________________________________________________________\n",
            "bn_4_identity_1_a (BatchNormali (None, 15, 15, 256)  1024        res_4_identity_1_a[0][0]         \n",
            "__________________________________________________________________________________________________\n",
            "activation_22 (Activation)      (None, 15, 15, 256)  0           bn_4_identity_1_a[0][0]          \n",
            "__________________________________________________________________________________________________\n",
            "res_4_identity_1_b (Conv2D)     (None, 15, 15, 256)  590080      activation_22[0][0]              \n",
            "__________________________________________________________________________________________________\n",
            "bn_4_identity_1_b (BatchNormali (None, 15, 15, 256)  1024        res_4_identity_1_b[0][0]         \n",
            "__________________________________________________________________________________________________\n",
            "activation_23 (Activation)      (None, 15, 15, 256)  0           bn_4_identity_1_b[0][0]          \n",
            "__________________________________________________________________________________________________\n",
            "res_4_identity_1_c (Conv2D)     (None, 15, 15, 1024) 263168      activation_23[0][0]              \n",
            "__________________________________________________________________________________________________\n",
            "bn_4_identity_1_c (BatchNormali (None, 15, 15, 1024) 4096        res_4_identity_1_c[0][0]         \n",
            "__________________________________________________________________________________________________\n",
            "add_7 (Add)                     (None, 15, 15, 1024) 0           bn_4_identity_1_c[0][0]          \n",
            "                                                                 activation_21[0][0]              \n",
            "__________________________________________________________________________________________________\n",
            "activation_24 (Activation)      (None, 15, 15, 1024) 0           add_7[0][0]                      \n",
            "__________________________________________________________________________________________________\n",
            "res_4_identity_2_a (Conv2D)     (None, 15, 15, 256)  262400      activation_24[0][0]              \n",
            "__________________________________________________________________________________________________\n",
            "bn_4_identity_2_a (BatchNormali (None, 15, 15, 256)  1024        res_4_identity_2_a[0][0]         \n",
            "__________________________________________________________________________________________________\n",
            "activation_25 (Activation)      (None, 15, 15, 256)  0           bn_4_identity_2_a[0][0]          \n",
            "__________________________________________________________________________________________________\n",
            "res_4_identity_2_b (Conv2D)     (None, 15, 15, 256)  590080      activation_25[0][0]              \n",
            "__________________________________________________________________________________________________\n",
            "bn_4_identity_2_b (BatchNormali (None, 15, 15, 256)  1024        res_4_identity_2_b[0][0]         \n",
            "__________________________________________________________________________________________________\n",
            "activation_26 (Activation)      (None, 15, 15, 256)  0           bn_4_identity_2_b[0][0]          \n",
            "__________________________________________________________________________________________________\n",
            "res_4_identity_2_c (Conv2D)     (None, 15, 15, 1024) 263168      activation_26[0][0]              \n",
            "__________________________________________________________________________________________________\n",
            "bn_4_identity_2_c (BatchNormali (None, 15, 15, 1024) 4096        res_4_identity_2_c[0][0]         \n",
            "__________________________________________________________________________________________________\n",
            "add_8 (Add)                     (None, 15, 15, 1024) 0           bn_4_identity_2_c[0][0]          \n",
            "                                                                 activation_24[0][0]              \n",
            "__________________________________________________________________________________________________\n",
            "activation_27 (Activation)      (None, 15, 15, 1024) 0           add_8[0][0]                      \n",
            "__________________________________________________________________________________________________\n",
            "res_5_conv_a (Conv2D)           (None, 15, 15, 512)  524800      activation_27[0][0]              \n",
            "__________________________________________________________________________________________________\n",
            "max_pooling2d_7 (MaxPooling2D)  (None, 7, 7, 512)    0           res_5_conv_a[0][0]               \n",
            "__________________________________________________________________________________________________\n",
            "bn_5_conv_a (BatchNormalization (None, 7, 7, 512)    2048        max_pooling2d_7[0][0]            \n",
            "__________________________________________________________________________________________________\n",
            "activation_28 (Activation)      (None, 7, 7, 512)    0           bn_5_conv_a[0][0]                \n",
            "__________________________________________________________________________________________________\n",
            "res_5_conv_b (Conv2D)           (None, 7, 7, 512)    2359808     activation_28[0][0]              \n",
            "__________________________________________________________________________________________________\n",
            "bn_5_conv_b (BatchNormalization (None, 7, 7, 512)    2048        res_5_conv_b[0][0]               \n",
            "__________________________________________________________________________________________________\n",
            "activation_29 (Activation)      (None, 7, 7, 512)    0           bn_5_conv_b[0][0]                \n",
            "__________________________________________________________________________________________________\n",
            "res_5_conv_copy (Conv2D)        (None, 15, 15, 2048) 2099200     activation_27[0][0]              \n",
            "__________________________________________________________________________________________________\n",
            "res_5_conv_c (Conv2D)           (None, 7, 7, 2048)   1050624     activation_29[0][0]              \n",
            "__________________________________________________________________________________________________\n",
            "max_pooling2d_8 (MaxPooling2D)  (None, 7, 7, 2048)   0           res_5_conv_copy[0][0]            \n",
            "__________________________________________________________________________________________________\n",
            "bn_5_conv_c (BatchNormalization (None, 7, 7, 2048)   8192        res_5_conv_c[0][0]               \n",
            "__________________________________________________________________________________________________\n",
            "bn_5_conv_copy (BatchNormalizat (None, 7, 7, 2048)   8192        max_pooling2d_8[0][0]            \n",
            "__________________________________________________________________________________________________\n",
            "add_9 (Add)                     (None, 7, 7, 2048)   0           bn_5_conv_c[0][0]                \n",
            "                                                                 bn_5_conv_copy[0][0]             \n",
            "__________________________________________________________________________________________________\n",
            "activation_30 (Activation)      (None, 7, 7, 2048)   0           add_9[0][0]                      \n",
            "__________________________________________________________________________________________________\n",
            "res_5_identity_1_a (Conv2D)     (None, 7, 7, 512)    1049088     activation_30[0][0]              \n",
            "__________________________________________________________________________________________________\n",
            "bn_5_identity_1_a (BatchNormali (None, 7, 7, 512)    2048        res_5_identity_1_a[0][0]         \n",
            "__________________________________________________________________________________________________\n",
            "activation_31 (Activation)      (None, 7, 7, 512)    0           bn_5_identity_1_a[0][0]          \n",
            "__________________________________________________________________________________________________\n",
            "res_5_identity_1_b (Conv2D)     (None, 7, 7, 512)    2359808     activation_31[0][0]              \n",
            "__________________________________________________________________________________________________\n",
            "bn_5_identity_1_b (BatchNormali (None, 7, 7, 512)    2048        res_5_identity_1_b[0][0]         \n",
            "__________________________________________________________________________________________________\n",
            "activation_32 (Activation)      (None, 7, 7, 512)    0           bn_5_identity_1_b[0][0]          \n",
            "__________________________________________________________________________________________________\n",
            "res_5_identity_1_c (Conv2D)     (None, 7, 7, 2048)   1050624     activation_32[0][0]              \n",
            "__________________________________________________________________________________________________\n",
            "bn_5_identity_1_c (BatchNormali (None, 7, 7, 2048)   8192        res_5_identity_1_c[0][0]         \n",
            "__________________________________________________________________________________________________\n",
            "add_10 (Add)                    (None, 7, 7, 2048)   0           bn_5_identity_1_c[0][0]          \n",
            "                                                                 activation_30[0][0]              \n",
            "__________________________________________________________________________________________________\n",
            "activation_33 (Activation)      (None, 7, 7, 2048)   0           add_10[0][0]                     \n",
            "__________________________________________________________________________________________________\n",
            "res_5_identity_2_a (Conv2D)     (None, 7, 7, 512)    1049088     activation_33[0][0]              \n",
            "__________________________________________________________________________________________________\n",
            "bn_5_identity_2_a (BatchNormali (None, 7, 7, 512)    2048        res_5_identity_2_a[0][0]         \n",
            "__________________________________________________________________________________________________\n",
            "activation_34 (Activation)      (None, 7, 7, 512)    0           bn_5_identity_2_a[0][0]          \n",
            "__________________________________________________________________________________________________\n",
            "res_5_identity_2_b (Conv2D)     (None, 7, 7, 512)    2359808     activation_34[0][0]              \n",
            "__________________________________________________________________________________________________\n",
            "bn_5_identity_2_b (BatchNormali (None, 7, 7, 512)    2048        res_5_identity_2_b[0][0]         \n",
            "__________________________________________________________________________________________________\n",
            "activation_35 (Activation)      (None, 7, 7, 512)    0           bn_5_identity_2_b[0][0]          \n",
            "__________________________________________________________________________________________________\n",
            "res_5_identity_2_c (Conv2D)     (None, 7, 7, 2048)   1050624     activation_35[0][0]              \n",
            "__________________________________________________________________________________________________\n",
            "bn_5_identity_2_c (BatchNormali (None, 7, 7, 2048)   8192        res_5_identity_2_c[0][0]         \n",
            "__________________________________________________________________________________________________\n",
            "add_11 (Add)                    (None, 7, 7, 2048)   0           bn_5_identity_2_c[0][0]          \n",
            "                                                                 activation_33[0][0]              \n",
            "__________________________________________________________________________________________________\n",
            "activation_36 (Activation)      (None, 7, 7, 2048)   0           add_11[0][0]                     \n",
            "__________________________________________________________________________________________________\n",
            "Averagea_Pooling (AveragePoolin (None, 3, 3, 2048)   0           activation_36[0][0]              \n",
            "__________________________________________________________________________________________________\n",
            "flatten (Flatten)               (None, 18432)        0           Averagea_Pooling[0][0]           \n",
            "__________________________________________________________________________________________________\n",
            "Dense_final (Dense)             (None, 2)            36866       flatten[0][0]                    \n",
            "==================================================================================================\n",
            "Total params: 19,976,834\n",
            "Trainable params: 19,934,466\n",
            "Non-trainable params: 42,368\n",
            "__________________________________________________________________________________________________\n"
          ]
        }
      ],
      "execution_count": 5,
      "metadata": {
        "collapsed": true,
        "gather": {
          "logged": 1623128909636
        },
        "jupyter": {
          "outputs_hidden": false,
          "source_hidden": false
        },
        "nteract": {
          "transient": {
            "deleting": false
          }
        }
      }
    },
    {
      "cell_type": "code",
      "source": [
        "model.compile(optimizer = 'adam', loss = 'categorical_crossentropy', metrics= ['accuracy'])"
      ],
      "outputs": [],
      "execution_count": 6,
      "metadata": {
        "collapsed": true,
        "gather": {
          "logged": 1623128917706
        },
        "jupyter": {
          "outputs_hidden": false,
          "source_hidden": false
        },
        "nteract": {
          "transient": {
            "deleting": false
          }
        }
      }
    },
    {
      "cell_type": "code",
      "source": [
        "# earlystopping = EarlyStopping(monitor='val_loss', mode='min', verbose=1, patience=15)\n",
        "# checkpointer = ModelCheckpoint(filepath=\"/kaggle/working/resnet-azure-1-weights.hdf5\", verbose=1, save_best_only=True)"
      ],
      "outputs": [],
      "execution_count": 63,
      "metadata": {
        "collapsed": true,
        "gather": {
          "logged": 1621946508638
        },
        "jupyter": {
          "outputs_hidden": false,
          "source_hidden": false
        },
        "nteract": {
          "transient": {
            "deleting": false
          }
        }
      }
    },
    {
      "cell_type": "code",
      "source": [
        "pip install 'h5py==2.10.0' --force-reinstall"
      ],
      "outputs": [
        {
          "output_type": "stream",
          "name": "stdout",
          "text": [
            "Collecting h5py==2.10.0\n",
            "  Downloading h5py-2.10.0-cp36-cp36m-manylinux1_x86_64.whl (2.9 MB)\n",
            "\u001b[K     |████████████████████████████████| 2.9 MB 11.2 MB/s eta 0:00:01\n",
            "\u001b[?25hCollecting six\n",
            "  Downloading six-1.16.0-py2.py3-none-any.whl (11 kB)\n",
            "Collecting numpy>=1.7\n",
            "  Downloading numpy-1.19.5-cp36-cp36m-manylinux2010_x86_64.whl (14.8 MB)\n",
            "\u001b[K     |████████████████████████████████| 14.8 MB 100.1 MB/s eta 0:00:01\n",
            "\u001b[31mERROR: tensorflow 2.1.0 has requirement scipy==1.4.1; python_version >= \"3\", but you'll have scipy 1.5.2 which is incompatible.\u001b[0m\n",
            "\u001b[31mERROR: tensorflow-gpu 2.1.0 has requirement scipy==1.4.1; python_version >= \"3\", but you'll have scipy 1.5.2 which is incompatible.\u001b[0m\n",
            "\u001b[31mERROR: raiwidgets 0.2.2 has requirement lightgbm>=3.1.1, but you'll have lightgbm 2.3.0 which is incompatible.\u001b[0m\n",
            "\u001b[31mERROR: gym 0.18.0 has requirement Pillow<=7.2.0, but you'll have pillow 8.2.0 which is incompatible.\u001b[0m\n",
            "\u001b[31mERROR: azureml-train-automl-runtime 1.28.0 has requirement numpy<1.19.0,>=1.16.0, but you'll have numpy 1.19.5 which is incompatible.\u001b[0m\n",
            "\u001b[31mERROR: azureml-opendatasets 1.28.0 has requirement numpy<=1.19.0,>=1.16.0, but you'll have numpy 1.19.5 which is incompatible.\u001b[0m\n",
            "\u001b[31mERROR: azureml-opendatasets 1.28.0 has requirement scipy<=1.4.1,>=1.0.0, but you'll have scipy 1.5.2 which is incompatible.\u001b[0m\n",
            "\u001b[31mERROR: azureml-automl-runtime 1.28.0.post2 has requirement numpy<1.19.0,>=1.16.0, but you'll have numpy 1.19.5 which is incompatible.\u001b[0m\n",
            "\u001b[31mERROR: azure-cli 2.23.0 has requirement azure-graphrbac~=0.60.0, but you'll have azure-graphrbac 0.61.1 which is incompatible.\u001b[0m\n",
            "\u001b[31mERROR: azure-cli 2.23.0 has requirement azure-mgmt-containerregistry==3.0.0rc17, but you'll have azure-mgmt-containerregistry 2.8.0 which is incompatible.\u001b[0m\n",
            "\u001b[31mERROR: azure-cli 2.23.0 has requirement azure-mgmt-keyvault==9.0.0, but you'll have azure-mgmt-keyvault 2.2.0 which is incompatible.\u001b[0m\n",
            "\u001b[31mERROR: azure-cli 2.23.0 has requirement azure-mgmt-network~=18.0.0, but you'll have azure-mgmt-network 19.0.0 which is incompatible.\u001b[0m\n",
            "\u001b[31mERROR: azure-cli 2.23.0 has requirement azure-mgmt-storage~=17.1.0, but you'll have azure-mgmt-storage 11.2.0 which is incompatible.\u001b[0m\n",
            "\u001b[31mERROR: azure-cli 2.23.0 has requirement pytz==2019.1, but you'll have pytz 2021.1 which is incompatible.\u001b[0m\n",
            "\u001b[31mERROR: azure-cli 2.23.0 has requirement websocket-client~=0.56.0, but you'll have websocket-client 0.59.0 which is incompatible.\u001b[0m\n",
            "\u001b[31mERROR: azure-cli-core 2.23.0 has requirement cryptography<3.4,>=3.2, but you'll have cryptography 3.4.7 which is incompatible.\u001b[0m\n",
            "\u001b[31mERROR: azure-cli-core 2.23.0 has requirement PyJWT==1.7.1, but you'll have pyjwt 2.1.0 which is incompatible.\u001b[0m\n",
            "\u001b[31mERROR: autokeras 1.0.13 has requirement tensorflow>=2.3.0, but you'll have tensorflow 2.1.0 which is incompatible.\u001b[0m\n",
            "\u001b[?25hInstalling collected packages: six, numpy, h5py\n",
            "  Attempting uninstall: six\n",
            "    Found existing installation: six 1.16.0\n",
            "    Uninstalling six-1.16.0:\n",
            "      Successfully uninstalled six-1.16.0\n",
            "  Attempting uninstall: numpy\n",
            "    Found existing installation: numpy 1.18.5\n",
            "    Uninstalling numpy-1.18.5:\n",
            "      Successfully uninstalled numpy-1.18.5\n",
            "  Attempting uninstall: h5py\n",
            "    Found existing installation: h5py 3.1.0\n",
            "    Uninstalling h5py-3.1.0:\n",
            "      Successfully uninstalled h5py-3.1.0\n",
            "Successfully installed h5py-2.10.0 numpy-1.19.5 six-1.16.0\n",
            "Note: you may need to restart the kernel to use updated packages.\n"
          ]
        }
      ],
      "execution_count": 12,
      "metadata": {
        "collapsed": true,
        "jupyter": {
          "source_hidden": false,
          "outputs_hidden": true
        },
        "nteract": {
          "transient": {
            "deleting": false
          }
        },
        "gather": {
          "logged": 1623128162387
        }
      }
    },
    {
      "cell_type": "code",
      "source": [
        "model.load_weights('./preprocess-binary-aptos-resnet-5-100-weights.hdf5')"
      ],
      "outputs": [],
      "execution_count": 7,
      "metadata": {
        "collapsed": true,
        "gather": {
          "logged": 1623128925269
        },
        "jupyter": {
          "outputs_hidden": false,
          "source_hidden": false
        },
        "nteract": {
          "transient": {
            "deleting": false
          }
        }
      }
    },
    {
      "cell_type": "code",
      "source": [
        "model.save('dr-resnet-bp-aptos.pkl')"
      ],
      "outputs": [
        {
          "output_type": "stream",
          "name": "stdout",
          "text": [
            "WARNING:tensorflow:From /anaconda/envs/azureml_py36/lib/python3.6/site-packages/tensorflow_core/python/ops/resource_variable_ops.py:1786: calling BaseResourceVariable.__init__ (from tensorflow.python.ops.resource_variable_ops) with constraint is deprecated and will be removed in a future version.\n",
            "Instructions for updating:\n",
            "If using Keras pass *_constraint arguments to layers.\n",
            "INFO:tensorflow:Assets written to: dr-resnet-bp-aptos.pkl/assets\n"
          ]
        }
      ],
      "execution_count": 8,
      "metadata": {
        "collapsed": true,
        "gather": {
          "logged": 1623128968335
        },
        "jupyter": {
          "outputs_hidden": false,
          "source_hidden": false
        },
        "nteract": {
          "transient": {
            "deleting": false
          }
        }
      }
    },
    {
      "cell_type": "code",
      "source": [
        "import os\n",
        "os.environ['TF_KERAS'] = '1'\n",
        "import onnxmltools\n",
        "\n",
        "onnx_model = onnxmltools.convert_keras(model) \n",
        "\n",
        "onnxmltools.utils.save_model(onnx_model, 'aptos_binary_prepr_resnet_model.onnx')\n"
      ],
      "outputs": [
        {
          "output_type": "stream",
          "name": "stderr",
          "text": [
            "Can't import tf2onnx module, so the conversion on a model with any custom/lambda layer will fail!\n"
          ]
        }
      ],
      "execution_count": 9,
      "metadata": {
        "collapsed": true,
        "gather": {
          "logged": 1623128985367
        },
        "jupyter": {
          "outputs_hidden": false,
          "source_hidden": false
        },
        "nteract": {
          "transient": {
            "deleting": false
          }
        }
      }
    },
    {
      "cell_type": "code",
      "source": [
        "\n",
        "from azureml.core.model import Model\n",
        "\n",
        "model = Model.register(model_path = \"aptos_binary_prepr_resnet_model.onnx\",\n",
        "                       model_name = \"MyDRModelAPTOS\",\n",
        "                       description = \"Keras Model for Diabetic Retinopathy Detection, APTOS cropped and preprocessed dataset (8 June)\",\n",
        "                       workspace = ws)"
      ],
      "outputs": [
        {
          "output_type": "stream",
          "name": "stdout",
          "text": [
            "Registering model MyDRModelAPTOS\n"
          ]
        }
      ],
      "execution_count": 10,
      "metadata": {
        "collapsed": true,
        "gather": {
          "logged": 1623129405707
        },
        "jupyter": {
          "outputs_hidden": false,
          "source_hidden": false
        },
        "nteract": {
          "transient": {
            "deleting": false
          }
        }
      }
    },
    {
      "cell_type": "code",
      "source": [
        "%%writefile score.py\n",
        "\n",
        "import json\n",
        "import sys\n",
        "\n",
        "from azureml.core.model import Model\n",
        "import onnxruntime\n",
        "import numpy as np\n",
        "\n",
        "def init():\n",
        "    global model_path\n",
        "    model_path = Model.get_model_path(model_name = 'MyDRModelAPTOS')\n",
        "\n",
        "def run(raw_data):\n",
        "    try:\n",
        "        data = json.loads(raw_data)['data']\n",
        "        data = np.array(data, dtype=np.float32)\n",
        "\n",
        "        session = onnxruntime.InferenceSession(model_path)\n",
        "        input_name = session.get_inputs()[0].name\n",
        "        output_name = session.get_outputs()[0].name\n",
        "        result = session.run([output_name], {input_name: data})\n",
        "        # NumPy arrays are not JSON serialisable\n",
        "        result = result[0].tolist()\n",
        "\n",
        "        return {\"result\": result}\n",
        "    except Exception as e:\n",
        "        result = str(e)\n",
        "        return {\"error\": result}\n"
      ],
      "outputs": [
        {
          "output_type": "stream",
          "name": "stdout",
          "text": [
            "Overwriting score.py\n"
          ]
        }
      ],
      "execution_count": 11,
      "metadata": {
        "collapsed": true,
        "jupyter": {
          "outputs_hidden": false,
          "source_hidden": false
        },
        "nteract": {
          "transient": {
            "deleting": false
          }
        }
      }
    },
    {
      "cell_type": "code",
      "source": [
        "from azureml.core.conda_dependencies import CondaDependencies \n",
        "\n",
        "myenv = CondaDependencies()\n",
        "myenv.add_pip_package(\"numpy\")\n",
        "myenv.add_pip_package(\"azureml-core\")\n",
        "myenv.add_pip_package(\"onnxruntime\")\n",
        "myenv.add_conda_package(\"pip==20.1.1\")\n",
        "# myenv.add_pip_package(\"ruamel\")\n",
        "\n",
        "with open(\"myenv.yml\",\"w\") as f:\n",
        "    f.write(myenv.serialize_to_string())"
      ],
      "outputs": [],
      "execution_count": 12,
      "metadata": {
        "collapsed": true,
        "gather": {
          "logged": 1623129424980
        },
        "jupyter": {
          "outputs_hidden": false,
          "source_hidden": false
        },
        "nteract": {
          "transient": {
            "deleting": false
          }
        }
      }
    },
    {
      "cell_type": "code",
      "source": [
        "\n",
        "from azureml.core.image import ContainerImage\n",
        "\n",
        "image_config = ContainerImage.image_configuration(execution_script = \"score.py\",\n",
        "                                                  runtime = \"python\",\n",
        "                                                  conda_file = \"myenv.yml\",\n",
        "                                                  description = \"test\"\n",
        "                                                 )"
      ],
      "outputs": [
        {
          "output_type": "stream",
          "name": "stderr",
          "text": [
            "/anaconda/envs/azureml_py36/lib/python3.6/site-packages/ipykernel_launcher.py:6: DeprecationWarning: ContainerImage class has been deprecated and will be removed in a future release. Please migrate to using Environments. https://docs.microsoft.com/en-us/azure/machine-learning/how-to-use-environments\n",
            "  \n"
          ]
        }
      ],
      "execution_count": 13,
      "metadata": {
        "collapsed": true,
        "gather": {
          "logged": 1623129430894
        },
        "jupyter": {
          "outputs_hidden": false,
          "source_hidden": false
        },
        "nteract": {
          "transient": {
            "deleting": false
          }
        }
      }
    },
    {
      "cell_type": "code",
      "source": [
        "image = ContainerImage.create(name = \"onnxmodelimage-aptos\",\n",
        "                              models = [model],\n",
        "                              image_config = image_config,\n",
        "                              workspace = ws)\n",
        "\n",
        "image.wait_for_creation(show_output = True)"
      ],
      "outputs": [
        {
          "output_type": "stream",
          "name": "stderr",
          "text": [
            "/anaconda/envs/azureml_py36/lib/python3.6/site-packages/ipykernel_launcher.py:4: DeprecationWarning: Image class has been deprecated and will be removed in a future release. Please migrate to using Environments. https://docs.microsoft.com/en-us/azure/machine-learning/how-to-use-environments\n",
            "  after removing the cwd from sys.path.\n"
          ]
        },
        {
          "output_type": "stream",
          "name": "stdout",
          "text": [
            "Creating image\n",
            "Running........................................\n",
            "Succeeded\n",
            "Image creation operation finished for image onnxmodelimage-aptos:1, operation \"Succeeded\"\n"
          ]
        }
      ],
      "execution_count": 14,
      "metadata": {
        "collapsed": true,
        "gather": {
          "logged": 1623129676926
        },
        "jupyter": {
          "outputs_hidden": false,
          "source_hidden": false
        },
        "nteract": {
          "transient": {
            "deleting": false
          }
        }
      }
    },
    {
      "cell_type": "code",
      "source": [
        "from azureml.core.webservice import AciWebservice, Webservice\n",
        "\n",
        "aciconfig = AciWebservice.deploy_configuration(cpu_cores = 1, \n",
        "                                               memory_gb = 1, \n",
        "                                               tags = {\"data\": \"diabetic-retinopathy-aptos\", \"type\": \"multilclass-classification\"}, \n",
        "                                               description = 'Diabetic Retinopathy Detection ResNet binary classification model trained with APTOS images cropped and preprocessed',\n",
        "                                               auth_enabled=True)\n",
        "\n",
        "service_name = 'diabetic-retinopathy-aptos'\n",
        "service = Webservice.deploy_from_image(deployment_config = aciconfig,\n",
        "                                            image = image,\n",
        "                                            name = service_name,\n",
        "                                            workspace = ws)\n",
        "\n",
        "service.wait_for_deployment(show_output = True)\n",
        "print(service.state)"
      ],
      "outputs": [
        {
          "output_type": "stream",
          "name": "stderr",
          "text": [
            "/anaconda/envs/azureml_py36/lib/python3.6/site-packages/ipykernel_launcher.py:13: DeprecationWarning: deploy_from_image has been deprecated and will be removed in a future release. Please migrate to using Environments. https://docs.microsoft.com/en-us/azure/machine-learning/how-to-use-environments\n",
            "  del sys.path[0]\n"
          ]
        },
        {
          "output_type": "stream",
          "name": "stdout",
          "text": [
            "Tips: You can try get_logs(): https://aka.ms/debugimage#dockerlog or local deployment: https://aka.ms/debugimage#debug-locally to debug if deployment takes longer than 10 minutes.\n",
            "Running\n",
            "2021-06-08 05:22:51+00:00 Generating deployment configuration.\n",
            "2021-06-08 05:22:52+00:00 Submitting deployment to compute.\n",
            "2021-06-08 05:22:55+00:00 Checking the status of deployment diabetic-retinopathy-aptos..\n",
            "2021-06-08 05:23:44+00:00 Checking the status of inference endpoint diabetic-retinopathy-aptos.\n",
            "Succeeded\n",
            "ACI service creation operation finished, operation \"Succeeded\"\n",
            "Healthy\n"
          ]
        }
      ],
      "execution_count": 15,
      "metadata": {
        "collapsed": true,
        "gather": {
          "logged": 1623129830300
        },
        "jupyter": {
          "outputs_hidden": false,
          "source_hidden": false
        },
        "nteract": {
          "transient": {
            "deleting": false
          }
        }
      }
    },
    {
      "cell_type": "code",
      "source": [
        "print(service.get_logs())"
      ],
      "outputs": [
        {
          "output_type": "stream",
          "name": "stdout",
          "text": [
            "2021-06-08T05:23:30,705242400+00:00 - rsyslog/run \n",
            "2021-06-08T05:23:30,706689300+00:00 - gunicorn/run \n",
            "2021-06-08T05:23:30,713987400+00:00 - iot-server/run \n",
            "2021-06-08T05:23:30,727295900+00:00 - nginx/run \n",
            "EdgeHubConnectionString and IOTEDGE_IOTHUBHOSTNAME are not set. Exiting...\n",
            "2021-06-08T05:23:31,315942000+00:00 - iot-server/finish 1 0\n",
            "2021-06-08T05:23:31,317264500+00:00 - Exit code 1 is normal. Not restarting iot-server.\n",
            "Starting gunicorn 20.1.0\n",
            "Listening at: http://127.0.0.1:31311 (60)\n",
            "Using worker: sync\n",
            "worker timeout is set to 300\n",
            "Booting worker with pid: 94\n",
            "Initializing logger\n",
            "2021-06-08 05:23:37,894 | root | INFO | Starting up app insights client\n",
            "Starting up app insights client\n",
            "2021-06-08 05:23:37,895 | root | INFO | Starting up request id generator\n",
            "Starting up request id generator\n",
            "2021-06-08 05:23:37,895 | root | INFO | Starting up app insight hooks\n",
            "Starting up app insight hooks\n",
            "2021-06-08 05:23:37,896 | root | INFO | Invoking user's init function\n",
            "Invoking user's init function\n",
            "2021-06-08 05:23:37,897 | root | INFO | Users's init has completed successfully\n",
            "Users's init has completed successfully\n",
            "2021-06-08 05:23:37,901 | root | INFO | Skipping middleware: dbg_model_info as it's not enabled.\n",
            "Skipping middleware: dbg_model_info as it's not enabled.\n",
            "2021-06-08 05:23:37,903 | root | INFO | Skipping middleware: dbg_resource_usage as it's not enabled.\n",
            "Skipping middleware: dbg_resource_usage as it's not enabled.\n",
            "2021-06-08 05:23:37,904 | root | INFO | Scoring timeout is found from os.environ: 60000 ms\n",
            "Scoring timeout is found from os.environ: 60000 ms\n",
            "2021-06-08 05:23:44,505 | root | INFO | Swagger file not present\n",
            "Swagger file not present\n",
            "2021-06-08 05:23:44,508 | root | INFO | 404\n",
            "404\n",
            "127.0.0.1 - - [08/Jun/2021:05:23:44 +0000] \"GET /swagger.json HTTP/1.0\" 404 19 \"-\" \"Go-http-client/1.1\"\n",
            "2021-06-08 05:23:49,881 | root | INFO | Swagger file not present\n",
            "Swagger file not present\n",
            "2021-06-08 05:23:49,882 | root | INFO | 404\n",
            "404\n",
            "127.0.0.1 - - [08/Jun/2021:05:23:49 +0000] \"GET /swagger.json HTTP/1.0\" 404 19 \"-\" \"Go-http-client/1.1\"\n",
            "\n"
          ]
        }
      ],
      "execution_count": 16,
      "metadata": {
        "collapsed": true,
        "gather": {
          "logged": 1623130288602
        },
        "jupyter": {
          "outputs_hidden": false,
          "source_hidden": false
        },
        "nteract": {
          "transient": {
            "deleting": false
          }
        }
      }
    },
    {
      "cell_type": "code",
      "source": [
        "# print(ws.webservices['diabetic-retinopathy-idrid'].get_logs())\n",
        "\n",
        "service = ws.webservices['diabetic-retinopathy-aptos']"
      ],
      "outputs": [],
      "execution_count": 3,
      "metadata": {
        "collapsed": true,
        "gather": {
          "logged": 1623134593583
        },
        "jupyter": {
          "outputs_hidden": false,
          "source_hidden": true
        },
        "nteract": {
          "transient": {
            "deleting": false
          }
        }
      }
    },
    {
      "cell_type": "code",
      "source": [
        "service.update(enable_app_insights=True)"
      ],
      "outputs": [],
      "execution_count": 4,
      "metadata": {
        "collapsed": true,
        "jupyter": {
          "source_hidden": true,
          "outputs_hidden": false
        },
        "nteract": {
          "transient": {
            "deleting": false
          }
        },
        "gather": {
          "logged": 1623134636784
        }
      }
    },
    {
      "cell_type": "code",
      "source": [
        "service.update(enable_app_insights=False)"
      ],
      "outputs": [],
      "execution_count": 5,
      "metadata": {
        "collapsed": true,
        "jupyter": {
          "source_hidden": true,
          "outputs_hidden": false
        },
        "nteract": {
          "transient": {
            "deleting": false
          }
        },
        "gather": {
          "logged": 1623136510549
        }
      }
    },
    {
      "cell_type": "code",
      "source": [
        "service.update(auth_enabled=False)"
      ],
      "outputs": [],
      "execution_count": 6,
      "metadata": {
        "collapsed": true,
        "jupyter": {
          "source_hidden": true,
          "outputs_hidden": false
        },
        "nteract": {
          "transient": {
            "deleting": false
          }
        },
        "gather": {
          "logged": 1623136657659
        }
      }
    },
    {
      "cell_type": "code",
      "source": [
        "import requests\n",
        "import json\n",
        "import numpy as np\n",
        "from PIL import Image\n",
        "from numpy import asarray\n"
      ],
      "outputs": [],
      "execution_count": 24,
      "metadata": {
        "collapsed": true,
        "gather": {
          "logged": 1622980583096
        },
        "jupyter": {
          "outputs_hidden": false,
          "source_hidden": true
        },
        "nteract": {
          "transient": {
            "deleting": false
          }
        }
      }
    },
    {
      "cell_type": "code",
      "source": [
        "headers = {'Content-Type':'application/json'}\n",
        "\n",
        "# path = '/mnt/batch/tasks/shared/LS_root/mounts/clusters/diabetic-retinopathy/code/Users/joannejons/test-deploy-idrid/'\n",
        "\n",
        "test_img = [('IDRiD_029.jpeg', '0'), ('IDRiD_030.jpeg', '0'), ('IDRiD_101.jpeg', '1'), ('IDRiD_085.jpeg', '1'), ('IDRiD_008.jpeg', '2'), ('IDRiD_009.jpeg', '2'), ('IDRiD_006.jpeg', '3'), ('IDRiD_006.jpeg', '3'), ('IDRiD_001.jpeg', '4'), ('IDRiD_002.jpeg', '4')]\n",
        "\n",
        "path = './test-deploy-idrid/'\n",
        "\n",
        "\n",
        "for img_name, label in test_img:\n",
        "    img = Image.open(path + img_name)\n",
        "    img = asarray(img, dtype='float32')\n",
        "    img = img / 255\n",
        "    img = img.reshape(-1, 512, 512, 3)\n",
        "\n",
        "    input_data = json.dumps({\"data\": img.tolist()})\n",
        "\n",
        "    resp = requests.post(service.scoring_uri, input_data, headers=headers)\n",
        "\n",
        "    result = json.loads(resp.text)['result']\n",
        "    print(\"Actual = {}\".format(label))\n",
        "    print(result)\n",
        "    result = np.argmax(result)\n",
        "    print(result)"
      ],
      "outputs": [
        {
          "output_type": "stream",
          "name": "stdout",
          "text": [
            "Actual = 0\n",
            "[[0.001830501016229391, 9.361144748254446e-07, 0.9981685876846313, 2.0869115168739094e-15, 4.370818377369412e-12]]\n",
            "2\n",
            "Actual = 0\n",
            "[[0.17992272973060608, 0.18711715936660767, 0.6285001039505005, 2.3066599741383698e-09, 0.004460045136511326]]\n",
            "2\n",
            "Actual = 1\n",
            "[[0.00026079663075506687, 1.5959099982865155e-05, 0.999715268611908, 6.733519342105865e-08, 7.894039299571887e-06]]\n",
            "2\n",
            "Actual = 1\n",
            "[[0.049205657094717026, 0.336171954870224, 0.6133489608764648, 0.0012546161888167262, 1.884485209302511e-05]]\n",
            "2\n",
            "Actual = 2\n",
            "[[6.398854748113081e-05, 0.9871670603752136, 0.012170684523880482, 5.552548714149452e-07, 0.0005977004184387624]]\n",
            "1\n",
            "Actual = 2\n",
            "[[7.139770787034649e-06, 2.941611683127121e-07, 0.9994534850120544, 0.0005291865090839565, 9.878116543404758e-06]]\n",
            "2\n",
            "Actual = 3\n",
            "[[0.9905893802642822, 0.006941755767911673, 0.0023646678309887648, 0.00010410315007902682, 9.285516000545613e-08]]\n",
            "0\n",
            "Actual = 3\n",
            "[[0.9905893802642822, 0.006941755767911673, 0.0023646678309887648, 0.00010410315007902682, 9.285516000545613e-08]]\n",
            "0\n",
            "Actual = 4\n",
            "[[0.9939057230949402, 1.5418969269376248e-05, 0.00533641129732132, 0.00028332401416264474, 0.00045916001545265317]]\n",
            "0\n",
            "Actual = 4\n",
            "[[0.03601109981536865, 0.0002664032799657434, 0.021185196936130524, 0.9374379515647888, 0.005099460016936064]]\n",
            "3\n"
          ]
        }
      ],
      "execution_count": 28,
      "metadata": {
        "collapsed": true,
        "jupyter": {
          "source_hidden": true,
          "outputs_hidden": true
        },
        "nteract": {
          "transient": {
            "deleting": false
          }
        },
        "gather": {
          "logged": 1622981158881
        }
      }
    },
    {
      "cell_type": "code",
      "source": [
        "# 7898_left.jpeg - 0\n",
        "from PIL import Image\n",
        "from numpy import asarray\n",
        "\n",
        "headers = {'Content-Type':'application/json'}\n",
        "\n",
        "path = '/mnt/batch/tasks/shared/LS_root/mounts/clusters/diabetic-retinopathy/code/Users/joannejons/dr-color-train/'\n",
        "\n",
        "for i in range(5):\n",
        "    img = Image.open(path + test['Image'].tolist()[i])\n",
        "    img = asarray(image, dtype='float32')\n",
        "    img = img / 255\n",
        "    img = img.reshape(-1, 512, 512, 3)\n",
        "\n",
        "    input_data = json.dumps({\"data\": img.tolist()})\n",
        "\n",
        "\n",
        "    resp = requests.post(service.scoring_uri, input_data, headers=headers)\n",
        "\n",
        "    result = json.loads(resp.text)['result']\n",
        "    print(result)\n",
        "    result = np.argmax(result)\n",
        "    print(\"Actual = {}, Prediction = {}\".format(test['Labels'].tolist()[i], result))\n",
        "\n",
        "\n",
        "\n",
        "# img = Image.open(path)\n",
        "# img = asarray(image, dtype='float32')\n",
        "# img = img / 255\n",
        "# img = img.reshape(-1, 512, 512, 3)\n",
        "\n",
        "# print(img.shape)\n",
        "\n",
        "\n",
        "\n",
        "\n",
        "input_data = json.dumps({\"data\": img.tolist()})\n",
        "\n",
        "# headers = {'Content-Type':'application/json'}\n",
        "\n",
        "# resp = requests.post(service.scoring_uri, input_data, headers=headers)\n",
        "\n",
        "print(\"POST to url\", service.scoring_uri)\n",
        "\n",
        "# print(resp.text)\n",
        "# result = json.loads(resp.text)['result']\n",
        "# result = np.argmax(result)\n",
        "# print(result)\n",
        "\n"
      ],
      "outputs": [
        {
          "output_type": "stream",
          "name": "stdout",
          "text": [
            "[[0.4736922085285187, 0.5263077616691589]]\n",
            "Actual = 0, Prediction = 1\n",
            "[[0.4736922085285187, 0.5263077616691589]]\n",
            "Actual = 1, Prediction = 1\n",
            "[[0.4736922085285187, 0.5263077616691589]]\n",
            "Actual = 0, Prediction = 1\n",
            "[[0.4736922085285187, 0.5263077616691589]]\n",
            "Actual = 0, Prediction = 1\n",
            "[[0.4736922085285187, 0.5263077616691589]]\n",
            "Actual = 0, Prediction = 1\n",
            "POST to url http://99e36a78-8ca7-49ea-8029-0819c78f80d9.eastus2.azurecontainer.io/score\n"
          ]
        }
      ],
      "execution_count": 115,
      "metadata": {
        "collapsed": true,
        "gather": {
          "logged": 1621966101081
        },
        "jupyter": {
          "outputs_hidden": true,
          "source_hidden": true
        },
        "nteract": {
          "transient": {
            "deleting": false
          }
        }
      }
    },
    {
      "cell_type": "code",
      "source": [
        "test.shape"
      ],
      "outputs": [
        {
          "output_type": "execute_result",
          "execution_count": 112,
          "data": {
            "text/plain": "(3726, 2)"
          },
          "metadata": {}
        }
      ],
      "execution_count": 112,
      "metadata": {
        "collapsed": true,
        "gather": {
          "logged": 1621964777714
        },
        "jupyter": {
          "outputs_hidden": true,
          "source_hidden": true
        },
        "nteract": {
          "transient": {
            "deleting": false
          }
        }
      }
    },
    {
      "cell_type": "code",
      "source": [
        "from PIL import Image\n",
        "from numpy import asarray\n",
        "\n",
        "img = Image.open(path)\n",
        "img = asarray(image, dtype='float32')\n",
        "img = img / 255\n",
        "img = img.reshape(-1, 512, 512, 3)\n",
        "\n",
        "headers = {'Content-Type':'application/json'}\n",
        "input_data = json.dumps({\"data\": img.tolist()})\n",
        "\n",
        "resp = requests.post(service.scoring_uri, input_data, headers=headers)\n",
        "\n",
        "result = json.loads(resp.text)['result']\n",
        "result = np.argmax(result)"
      ],
      "outputs": [],
      "execution_count": null,
      "metadata": {
        "collapsed": true,
        "jupyter": {
          "outputs_hidden": false,
          "source_hidden": true
        },
        "nteract": {
          "transient": {
            "deleting": false
          }
        }
      }
    }
  ],
  "metadata": {
    "kernel_info": {
      "name": "python3-azureml"
    },
    "kernelspec": {
      "name": "python3-azureml",
      "language": "python",
      "display_name": "Python 3.6 - AzureML"
    },
    "language_info": {
      "name": "python",
      "version": "3.6.9",
      "mimetype": "text/x-python",
      "codemirror_mode": {
        "name": "ipython",
        "version": 3
      },
      "pygments_lexer": "ipython3",
      "nbconvert_exporter": "python",
      "file_extension": ".py"
    },
    "microsoft": {
      "host": {
        "AzureML": {
          "notebookHasBeenCompleted": true
        }
      }
    },
    "nteract": {
      "version": "nteract-front-end@1.0.0"
    }
  },
  "nbformat": 4,
  "nbformat_minor": 2
}